{
 "cells": [
  {
   "cell_type": "markdown",
   "id": "a45aae84",
   "metadata": {},
   "source": [
    "### Data Prep"
   ]
  },
  {
   "cell_type": "code",
   "execution_count": 1,
   "id": "0d89d741",
   "metadata": {},
   "outputs": [],
   "source": [
    "import numpy as np\n",
    "import pandas as pd\n",
    "\n",
    "admissions = pd.read_csv('student_data.csv')\n",
    "\n",
    "# Make dummy variables for rank\n",
    "data = pd.concat([admissions, pd.get_dummies(admissions['rank'], prefix='rank')], axis=1)\n",
    "data = data.drop('rank', axis=1)\n",
    "\n",
    "# Standarize features\n",
    "for field in ['gre', 'gpa']:\n",
    "    mean, std = data[field].mean(), data[field].std()\n",
    "    data.loc[:,field] = (data[field]-mean)/std\n",
    "    \n",
    "# Split off random 10% of the data for testing\n",
    "np.random.seed(42)\n",
    "sample = np.random.choice(data.index, size=int(len(data)*0.9), replace=False)\n",
    "data, test_data = data.iloc[sample], data.drop(sample)\n",
    "\n",
    "# Split into features and targets\n",
    "features, targets = data.drop('admit', axis=1), data['admit']\n",
    "features_test, targets_test = test_data.drop('admit', axis=1), test_data['admit']"
   ]
  },
  {
   "cell_type": "markdown",
   "id": "efeb5f12",
   "metadata": {},
   "source": [
    "### Define Activation Function"
   ]
  },
  {
   "cell_type": "code",
   "execution_count": 2,
   "id": "65c68123",
   "metadata": {},
   "outputs": [],
   "source": [
    "def sigmoid(x):\n",
    "    \"\"\"\n",
    "    Calculate sigmoid\n",
    "    \"\"\"\n",
    "    return 1 / (1 + np.exp(-x))"
   ]
  },
  {
   "cell_type": "markdown",
   "id": "d701038f",
   "metadata": {},
   "source": [
    "### One Layer Neural Network\n",
    "#### Set parameters"
   ]
  },
  {
   "cell_type": "code",
   "execution_count": 20,
   "id": "a98f8156",
   "metadata": {},
   "outputs": [],
   "source": [
    "# Use same seed to make debugging easier\n",
    "np.random.seed(42)\n",
    "\n",
    "# Initialize weights\n",
    "n_records, n_features = features.shape\n",
    "weights = np.random.normal(scale = 1/n_features**.5, size = n_features)\n",
    "\n",
    "# Neural Network hyperparameters\n",
    "epochs = 1000\n",
    "learnrate = 0.5"
   ]
  },
  {
   "cell_type": "markdown",
   "id": "2df403c1",
   "metadata": {},
   "source": [
    "#### Training\n",
    "Train Neural Network and print the result 10 times"
   ]
  },
  {
   "cell_type": "code",
   "execution_count": 21,
   "id": "64658e2b",
   "metadata": {},
   "outputs": [
    {
     "name": "stdout",
     "output_type": "stream",
     "text": [
      "Train loss:  0.26276093849966364\n",
      "Train loss:  0.20928619409324895\n",
      "Train loss:  0.20084292908073417\n",
      "Train loss:  0.1986215647552789\n",
      "Train loss:  0.19779851396686018\n",
      "Train loss:  0.19742577912189863\n",
      "Train loss:  0.19723507746241065\n",
      "Train loss:  0.19712945625092465\n",
      "Train loss:  0.19706766341315077\n",
      "Train loss:  0.19703005801777368\n"
     ]
    }
   ],
   "source": [
    "last_loss = None\n",
    "for e in range(epochs):\n",
    "    # For each iteration:\n",
    "    # Step 1 - Calculate total weight change\n",
    "    del_w = np.zeros(weights.shape) # initialize total weight change\n",
    "    for x, y in zip(features.values, targets): # Loop through all records, x is the input, y is the target\n",
    "        h = np.dot(weights, x) # the weighted sum\n",
    "        output = sigmoid(h) # the prediction y_hat\n",
    "        error = y - output # the error\n",
    "        error_term = error*output*(1-output) # the error term\n",
    "        # Calculate the change in weights for this sample and add it to the total weight change\n",
    "        del_w += learnrate * error_term * x\n",
    "    # Step 2 - Update weights\n",
    "    weights += del_w / n_records\n",
    "    \n",
    "    # Print out the mean square error on the traning set\n",
    "    if e % (epochs / 10) == 0:\n",
    "        out = sigmoid(np.dot(features, weights))\n",
    "        loss = np.mean((out - targets)**2)\n",
    "        if last_loss and last_loss < loss:\n",
    "            print(\"Train loss: \",loss, \" WARNING - Loss Increasing\")\n",
    "        else:\n",
    "            print(\"Train loss: \", loss)\n",
    "        last_loss = loss"
   ]
  },
  {
   "cell_type": "markdown",
   "id": "8f744143",
   "metadata": {},
   "source": [
    "#### Calculate accuracy on test data"
   ]
  },
  {
   "cell_type": "code",
   "execution_count": 22,
   "id": "9f8e5efe",
   "metadata": {},
   "outputs": [
    {
     "name": "stdout",
     "output_type": "stream",
     "text": [
      "Prediction accuracy: 0.725\n"
     ]
    }
   ],
   "source": [
    "test_out = sigmoid(np.dot(features_test, weights))\n",
    "predictions = test_out > 0.5\n",
    "accuracy = np.mean(predictions == targets_test)\n",
    "print(\"Prediction accuracy: {:.3f}\".format(accuracy))"
   ]
  },
  {
   "cell_type": "markdown",
   "id": "69c610b9",
   "metadata": {},
   "source": [
    "### Two Layer Neural Network\n",
    "#### Set parameters"
   ]
  },
  {
   "cell_type": "code",
   "execution_count": 3,
   "id": "7ca03d60",
   "metadata": {},
   "outputs": [],
   "source": [
    "# Hyperparameters\n",
    "n_hidden = 2  # number of hidden units\n",
    "epochs = 900\n",
    "learnrate = 0.005\n",
    "\n",
    "n_records, n_features = features.shape"
   ]
  },
  {
   "cell_type": "markdown",
   "id": "005f3e9e",
   "metadata": {},
   "source": [
    "#### Training\n",
    "Train Neural Network and print the result 10 times"
   ]
  },
  {
   "cell_type": "code",
   "execution_count": 4,
   "id": "d406dc78",
   "metadata": {},
   "outputs": [
    {
     "name": "stdout",
     "output_type": "stream",
     "text": [
      "Train loss:  0.23143745682765984\n",
      "Train loss:  0.23114026554406467\n",
      "Train loss:  0.2308513127837036\n",
      "Train loss:  0.23057034878009597\n",
      "Train loss:  0.23029713165262303\n",
      "Train loss:  0.23003142717151226\n",
      "Train loss:  0.2297730085275678\n",
      "Train loss:  0.22952165610674327\n",
      "Train loss:  0.22927715726974604\n",
      "Train loss:  0.22903930613669263\n"
     ]
    }
   ],
   "source": [
    "last_loss = None\n",
    "\n",
    "# Initialize weights\n",
    "weights_input_hidden = np.random.normal(scale=1 / n_features ** .5,\n",
    "                                        size=(n_features, n_hidden))\n",
    "weights_hidden_output = np.random.normal(scale=1 / n_features ** .5,\n",
    "                                         size=n_hidden)\n",
    "\n",
    "for e in range(epochs):\n",
    "    del_w_input_hidden = np.zeros(weights_input_hidden.shape)\n",
    "    del_w_hidden_output = np.zeros(weights_hidden_output.shape)\n",
    "    for x, y in zip(features.values, targets):\n",
    "        ## Forward pass ##\n",
    "        # Calculate the output\n",
    "        hidden_input = np.dot(x, weights_input_hidden)\n",
    "        hidden_output = sigmoid(hidden_input)\n",
    "        output = sigmoid(np.dot(hidden_output, weights_hidden_output))\n",
    "\n",
    "        ## Backward pass ##\n",
    "        # Calculate the network's prediction error\n",
    "        error = y - output\n",
    "\n",
    "        # Calculate error term for the output unit\n",
    "        output_error_term = error * output * (1 - output)\n",
    "\n",
    "        ## propagate errors to hidden layer\n",
    "\n",
    "        # Calculate the hidden layer's contribution to the error\n",
    "        hidden_error = weights_hidden_output * output_error_term \n",
    "        \n",
    "        # Calculate the error term for the hidden layer\n",
    "        hidden_error_term = hidden_error * hidden_output * (1 - hidden_output)\n",
    "        \n",
    "        # Update the change in weights\n",
    "        del_w_hidden_output += output_error_term * hidden_output\n",
    "        del_w_input_hidden += hidden_error_term * x[:,None]\n",
    "\n",
    "    # Update weights  (division by n_records or number of samples)\n",
    "    weights_input_hidden += learnrate * del_w_input_hidden / n_records\n",
    "    weights_hidden_output += learnrate * del_w_hidden_output / n_records\n",
    "\n",
    "    # Printing out the mean square error on the training set\n",
    "    if e % (epochs / 10) == 0:\n",
    "        hidden_output = sigmoid(np.dot(x, weights_input_hidden))\n",
    "        out = sigmoid(np.dot(hidden_output,\n",
    "                             weights_hidden_output))\n",
    "        loss = np.mean((out - targets) ** 2)\n",
    "\n",
    "        if last_loss and last_loss < loss:\n",
    "            print(\"Train loss: \", loss, \"  WARNING - Loss Increasing\")\n",
    "        else:\n",
    "            print(\"Train loss: \", loss)\n",
    "        last_loss = loss\n",
    "\n"
   ]
  },
  {
   "cell_type": "markdown",
   "id": "f8eca64e",
   "metadata": {},
   "source": [
    "#### Calculate accuracy on test data"
   ]
  },
  {
   "cell_type": "code",
   "execution_count": 5,
   "id": "f2e844bd",
   "metadata": {},
   "outputs": [
    {
     "name": "stdout",
     "output_type": "stream",
     "text": [
      "Prediction accuracy: 0.750\n"
     ]
    }
   ],
   "source": [
    "# Calculate accuracy on test data\n",
    "hidden = sigmoid(np.dot(features_test, weights_input_hidden))\n",
    "out = sigmoid(np.dot(hidden, weights_hidden_output))\n",
    "predictions = out > 0.5\n",
    "accuracy = np.mean(predictions == targets_test)\n",
    "print(\"Prediction accuracy: {:.3f}\".format(accuracy))\n"
   ]
  },
  {
   "cell_type": "code",
   "execution_count": null,
   "id": "f04b1314",
   "metadata": {},
   "outputs": [],
   "source": []
  }
 ],
 "metadata": {
  "kernelspec": {
   "display_name": "Python 3",
   "language": "python",
   "name": "python3"
  },
  "language_info": {
   "codemirror_mode": {
    "name": "ipython",
    "version": 3
   },
   "file_extension": ".py",
   "mimetype": "text/x-python",
   "name": "python",
   "nbconvert_exporter": "python",
   "pygments_lexer": "ipython3",
   "version": "3.7.10"
  }
 },
 "nbformat": 4,
 "nbformat_minor": 5
}
