{
 "cells": [
  {
   "cell_type": "markdown",
   "id": "a45aae84",
   "metadata": {},
   "source": [
    "### Data Prep"
   ]
  },
  {
   "cell_type": "code",
   "execution_count": 2,
   "id": "0d89d741",
   "metadata": {},
   "outputs": [],
   "source": [
    "import numpy as np\n",
    "import pandas as pd\n",
    "\n",
    "admissions = pd.read_csv('student_data.csv')\n",
    "\n",
    "# Make dummy variables for rank\n",
    "data = pd.concat([admissions, pd.get_dummies(admissions['rank'], prefix='rank')], axis=1)\n",
    "data = data.drop('rank', axis=1)\n",
    "\n",
    "# Standarize features\n",
    "for field in ['gre', 'gpa']:\n",
    "    mean, std = data[field].mean(), data[field].std()\n",
    "    data.loc[:,field] = (data[field]-mean)/std\n",
    "    \n",
    "# Split off random 10% of the data for testing\n",
    "np.random.seed(42)\n",
    "sample = np.random.choice(data.index, size=int(len(data)*0.9), replace=False)\n",
    "data, test_data = data.iloc[sample], data.drop(sample)\n",
    "\n",
    "# Split into features and targets\n",
    "features, targets = data.drop('admit', axis=1), data['admit']\n",
    "features_test, targets_test = test_data.drop('admit', axis=1), test_data['admit']"
   ]
  },
  {
   "cell_type": "code",
   "execution_count": 5,
   "id": "f2032dd2",
   "metadata": {},
   "outputs": [
    {
     "data": {
      "text/plain": [
       "(360, 6)"
      ]
     },
     "execution_count": 5,
     "metadata": {},
     "output_type": "execute_result"
    }
   ],
   "source": [
    "features.shape"
   ]
  },
  {
   "cell_type": "markdown",
   "id": "d701038f",
   "metadata": {},
   "source": [
    "### Train Neural Network\n",
    "#### Define activation function"
   ]
  },
  {
   "cell_type": "code",
   "execution_count": 6,
   "id": "65c68123",
   "metadata": {},
   "outputs": [],
   "source": [
    "def sigmoid(x):\n",
    "    \"\"\"\n",
    "    Calculate sigmoid\n",
    "    \"\"\"\n",
    "    return 1 / (1 + np.exp(-x))"
   ]
  },
  {
   "cell_type": "markdown",
   "id": "8acb7b36",
   "metadata": {},
   "source": [
    "#### Set parameters"
   ]
  },
  {
   "cell_type": "code",
   "execution_count": 20,
   "id": "a98f8156",
   "metadata": {},
   "outputs": [],
   "source": [
    "# Use same seed to make debugging easier\n",
    "np.random.seed(42)\n",
    "\n",
    "# Initialize weights\n",
    "n_records, n_features = features.shape\n",
    "weights = np.random.normal(scale = 1/n_features**.5, size = n_features)\n",
    "\n",
    "# Neural Network hyperparameters\n",
    "epochs = 1000\n",
    "learnrate = 0.5"
   ]
  },
  {
   "cell_type": "markdown",
   "id": "2df403c1",
   "metadata": {},
   "source": [
    "#### Training\n",
    "Train Neural Network and print the result every 1000/10 iteration"
   ]
  },
  {
   "cell_type": "code",
   "execution_count": 21,
   "id": "64658e2b",
   "metadata": {},
   "outputs": [
    {
     "name": "stdout",
     "output_type": "stream",
     "text": [
      "Train loss:  0.26276093849966364\n",
      "Train loss:  0.20928619409324895\n",
      "Train loss:  0.20084292908073417\n",
      "Train loss:  0.1986215647552789\n",
      "Train loss:  0.19779851396686018\n",
      "Train loss:  0.19742577912189863\n",
      "Train loss:  0.19723507746241065\n",
      "Train loss:  0.19712945625092465\n",
      "Train loss:  0.19706766341315077\n",
      "Train loss:  0.19703005801777368\n"
     ]
    }
   ],
   "source": [
    "last_loss = None\n",
    "for e in range(epochs):\n",
    "    # For each iteration:\n",
    "    # Step 1 - Calculate total weight change\n",
    "    del_w = np.zeros(weights.shape) # initialize total weight change\n",
    "    for x, y in zip(features.values, targets): # Loop through all records, x is the input, y is the target\n",
    "        h = np.dot(weights, x) # the weighted sum\n",
    "        output = sigmoid(h) # the prediction y_hat\n",
    "        error = y - output # the error\n",
    "        error_term = error*output*(1-output) # the error term\n",
    "        # Calculate the change in weights for this sample and add it to the total weight change\n",
    "        del_w += learnrate * error_term * x\n",
    "    # Step 2 - Update weights\n",
    "    weights += del_w / n_records\n",
    "    \n",
    "    # Print out the mean square error on the traning set\n",
    "    if e % (epochs / 10) == 0:\n",
    "        out = sigmoid(np.dot(features, weights))\n",
    "        loss = np.mean((out - targets)**2)\n",
    "        if last_loss and last_loss < loss:\n",
    "            print(\"Train loss: \",loss, \" WARNING - Loss Increasing\")\n",
    "        else:\n",
    "            print(\"Train loss: \", loss)\n",
    "        last_loss = loss"
   ]
  },
  {
   "cell_type": "markdown",
   "id": "8f744143",
   "metadata": {},
   "source": [
    "#### Calculate accuracy on test data"
   ]
  },
  {
   "cell_type": "code",
   "execution_count": 22,
   "id": "9f8e5efe",
   "metadata": {},
   "outputs": [
    {
     "name": "stdout",
     "output_type": "stream",
     "text": [
      "Prediction accuracy: 0.725\n"
     ]
    }
   ],
   "source": [
    "test_out = sigmoid(np.dot(features_test, weights))\n",
    "predictions = test_out > 0.5\n",
    "accuracy = np.mean(predictions == targets_test)\n",
    "print(\"Prediction accuracy: {:.3f}\".format(accuracy))"
   ]
  },
  {
   "cell_type": "code",
   "execution_count": null,
   "id": "3405bb77",
   "metadata": {},
   "outputs": [],
   "source": []
  }
 ],
 "metadata": {
  "kernelspec": {
   "display_name": "Python 3",
   "language": "python",
   "name": "python3"
  },
  "language_info": {
   "codemirror_mode": {
    "name": "ipython",
    "version": 3
   },
   "file_extension": ".py",
   "mimetype": "text/x-python",
   "name": "python",
   "nbconvert_exporter": "python",
   "pygments_lexer": "ipython3",
   "version": "3.7.10"
  }
 },
 "nbformat": 4,
 "nbformat_minor": 5
}
